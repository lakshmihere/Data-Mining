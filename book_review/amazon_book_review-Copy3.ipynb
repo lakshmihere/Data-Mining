{
 "cells": [
  {
   "cell_type": "code",
   "execution_count": 6,
   "id": "7fe49cf2",
   "metadata": {},
   "outputs": [],
   "source": [
    "import pandas as pd\n",
    "import numpy as np\n",
    "from pprint import pprint\n",
    "import io\n",
    "import os\n",
    "import time\n",
    "from bs4 import BeautifulSoup\n",
    "import requests,json, re"
   ]
  },
  {
   "cell_type": "code",
   "execution_count": 8,
   "id": "6a2620d2",
   "metadata": {},
   "outputs": [],
   "source": [
    "from selenium import webdriver\n",
    "\n",
    "from selenium.webdriver.chrome.service import Service as ChromeService\n",
    "from webdriver_manager.chrome import ChromeDriverManager\n",
    "\n",
    "driver = webdriver.Chrome(service=ChromeService(ChromeDriverManager().install()))"
   ]
  },
  {
   "cell_type": "code",
   "execution_count": 15,
   "id": "203a42cf",
   "metadata": {},
   "outputs": [],
   "source": [
    "os.makedirs(\"amazon_scraping_2\")"
   ]
  },
  {
   "cell_type": "code",
   "execution_count": 16,
   "id": "53518c84",
   "metadata": {},
   "outputs": [],
   "source": [
    " # path you want to save the HTML files in\n",
    "path = 'C:/Users/laksh/OneDrive/Documents/Upwork/data_mining/book_review/amazon_scraping_2/'"
   ]
  },
  {
   "cell_type": "code",
   "execution_count": 17,
   "id": "5f578e9f",
   "metadata": {},
   "outputs": [
    {
     "name": "stdout",
     "output_type": "stream",
     "text": [
      "C:/Users/laksh/OneDrive/Documents/Upwork/data_mining/book_review/amazon_scraping_2/amazon_page_1.html\n",
      "C:/Users/laksh/OneDrive/Documents/Upwork/data_mining/book_review/amazon_scraping_2/amazon_page_2.html\n",
      "C:/Users/laksh/OneDrive/Documents/Upwork/data_mining/book_review/amazon_scraping_2/amazon_page_3.html\n",
      "C:/Users/laksh/OneDrive/Documents/Upwork/data_mining/book_review/amazon_scraping_2/amazon_page_4.html\n",
      "C:/Users/laksh/OneDrive/Documents/Upwork/data_mining/book_review/amazon_scraping_2/amazon_page_5.html\n",
      "C:/Users/laksh/OneDrive/Documents/Upwork/data_mining/book_review/amazon_scraping_2/amazon_page_6.html\n",
      "C:/Users/laksh/OneDrive/Documents/Upwork/data_mining/book_review/amazon_scraping_2/amazon_page_7.html\n"
     ]
    },
    {
     "ename": "NoSuchWindowException",
     "evalue": "Message: no such window: target window already closed\nfrom unknown error: web view not found\n  (Session info: chrome=108.0.5359.71)\nStacktrace:\nBacktrace:\n\t(No symbol) [0x0030F243]\n\t(No symbol) [0x00297FD1]\n\t(No symbol) [0x0018D04D]\n\t(No symbol) [0x00172D7A]\n\t(No symbol) [0x001DBE7B]\n\t(No symbol) [0x001EC196]\n\t(No symbol) [0x001D8386]\n\t(No symbol) [0x001B163C]\n\t(No symbol) [0x001B269D]\n\tGetHandleVerifier [0x005A9A22+2655074]\n\tGetHandleVerifier [0x0059CA24+2601828]\n\tGetHandleVerifier [0x003B8C0A+619850]\n\tGetHandleVerifier [0x003B7830+614768]\n\t(No symbol) [0x002A05FC]\n\t(No symbol) [0x002A5968]\n\t(No symbol) [0x002A5A55]\n\t(No symbol) [0x002B051B]\n\tBaseThreadInitThunk [0x764A6939+25]\n\tRtlGetFullPathName_UEx [0x772B8FD2+1218]\n\tRtlGetFullPathName_UEx [0x772B8F9D+1165]\n",
     "output_type": "error",
     "traceback": [
      "\u001b[1;31m---------------------------------------------------------------------------\u001b[0m",
      "\u001b[1;31mNoSuchWindowException\u001b[0m                     Traceback (most recent call last)",
      "\u001b[1;32m<ipython-input-17-82e6d887d216>\u001b[0m in \u001b[0;36m<module>\u001b[1;34m\u001b[0m\n\u001b[0;32m      5\u001b[0m     \u001b[0mdriver\u001b[0m\u001b[1;33m.\u001b[0m\u001b[0mget\u001b[0m\u001b[1;33m(\u001b[0m\u001b[0murl\u001b[0m\u001b[1;33m)\u001b[0m\u001b[1;33m\u001b[0m\u001b[1;33m\u001b[0m\u001b[0m\n\u001b[0;32m      6\u001b[0m     \u001b[0mtime\u001b[0m\u001b[1;33m.\u001b[0m\u001b[0msleep\u001b[0m\u001b[1;33m(\u001b[0m\u001b[1;36m10\u001b[0m\u001b[1;33m)\u001b[0m\u001b[1;33m\u001b[0m\u001b[1;33m\u001b[0m\u001b[0m\n\u001b[1;32m----> 7\u001b[1;33m     \u001b[0mhtml\u001b[0m \u001b[1;33m=\u001b[0m \u001b[0mdriver\u001b[0m\u001b[1;33m.\u001b[0m\u001b[0mpage_source\u001b[0m\u001b[1;33m\u001b[0m\u001b[1;33m\u001b[0m\u001b[0m\n\u001b[0m\u001b[0;32m      8\u001b[0m     \u001b[0msoup\u001b[0m \u001b[1;33m=\u001b[0m \u001b[0mBeautifulSoup\u001b[0m\u001b[1;33m(\u001b[0m\u001b[0mhtml\u001b[0m\u001b[1;33m,\u001b[0m \u001b[1;34m'html.parser'\u001b[0m\u001b[1;33m)\u001b[0m\u001b[1;33m\u001b[0m\u001b[1;33m\u001b[0m\u001b[0m\n\u001b[0;32m      9\u001b[0m \u001b[1;33m\u001b[0m\u001b[0m\n",
      "\u001b[1;32m~\\anaconda3\\lib\\site-packages\\selenium\\webdriver\\remote\\webdriver.py\u001b[0m in \u001b[0;36mpage_source\u001b[1;34m(self)\u001b[0m\n\u001b[0;32m    548\u001b[0m                 \u001b[0mdriver\u001b[0m\u001b[1;33m.\u001b[0m\u001b[0mpage_source\u001b[0m\u001b[1;33m\u001b[0m\u001b[1;33m\u001b[0m\u001b[0m\n\u001b[0;32m    549\u001b[0m         \"\"\"\n\u001b[1;32m--> 550\u001b[1;33m         \u001b[1;32mreturn\u001b[0m \u001b[0mself\u001b[0m\u001b[1;33m.\u001b[0m\u001b[0mexecute\u001b[0m\u001b[1;33m(\u001b[0m\u001b[0mCommand\u001b[0m\u001b[1;33m.\u001b[0m\u001b[0mGET_PAGE_SOURCE\u001b[0m\u001b[1;33m)\u001b[0m\u001b[1;33m[\u001b[0m\u001b[1;34m\"value\"\u001b[0m\u001b[1;33m]\u001b[0m\u001b[1;33m\u001b[0m\u001b[1;33m\u001b[0m\u001b[0m\n\u001b[0m\u001b[0;32m    551\u001b[0m \u001b[1;33m\u001b[0m\u001b[0m\n\u001b[0;32m    552\u001b[0m     \u001b[1;32mdef\u001b[0m \u001b[0mclose\u001b[0m\u001b[1;33m(\u001b[0m\u001b[0mself\u001b[0m\u001b[1;33m)\u001b[0m \u001b[1;33m->\u001b[0m \u001b[1;32mNone\u001b[0m\u001b[1;33m:\u001b[0m\u001b[1;33m\u001b[0m\u001b[1;33m\u001b[0m\u001b[0m\n",
      "\u001b[1;32m~\\anaconda3\\lib\\site-packages\\selenium\\webdriver\\remote\\webdriver.py\u001b[0m in \u001b[0;36mexecute\u001b[1;34m(self, driver_command, params)\u001b[0m\n\u001b[0;32m    442\u001b[0m         \u001b[0mresponse\u001b[0m \u001b[1;33m=\u001b[0m \u001b[0mself\u001b[0m\u001b[1;33m.\u001b[0m\u001b[0mcommand_executor\u001b[0m\u001b[1;33m.\u001b[0m\u001b[0mexecute\u001b[0m\u001b[1;33m(\u001b[0m\u001b[0mdriver_command\u001b[0m\u001b[1;33m,\u001b[0m \u001b[0mparams\u001b[0m\u001b[1;33m)\u001b[0m\u001b[1;33m\u001b[0m\u001b[1;33m\u001b[0m\u001b[0m\n\u001b[0;32m    443\u001b[0m         \u001b[1;32mif\u001b[0m \u001b[0mresponse\u001b[0m\u001b[1;33m:\u001b[0m\u001b[1;33m\u001b[0m\u001b[1;33m\u001b[0m\u001b[0m\n\u001b[1;32m--> 444\u001b[1;33m             \u001b[0mself\u001b[0m\u001b[1;33m.\u001b[0m\u001b[0merror_handler\u001b[0m\u001b[1;33m.\u001b[0m\u001b[0mcheck_response\u001b[0m\u001b[1;33m(\u001b[0m\u001b[0mresponse\u001b[0m\u001b[1;33m)\u001b[0m\u001b[1;33m\u001b[0m\u001b[1;33m\u001b[0m\u001b[0m\n\u001b[0m\u001b[0;32m    445\u001b[0m             \u001b[0mresponse\u001b[0m\u001b[1;33m[\u001b[0m\u001b[1;34m\"value\"\u001b[0m\u001b[1;33m]\u001b[0m \u001b[1;33m=\u001b[0m \u001b[0mself\u001b[0m\u001b[1;33m.\u001b[0m\u001b[0m_unwrap_value\u001b[0m\u001b[1;33m(\u001b[0m\u001b[0mresponse\u001b[0m\u001b[1;33m.\u001b[0m\u001b[0mget\u001b[0m\u001b[1;33m(\u001b[0m\u001b[1;34m\"value\"\u001b[0m\u001b[1;33m,\u001b[0m \u001b[1;32mNone\u001b[0m\u001b[1;33m)\u001b[0m\u001b[1;33m)\u001b[0m\u001b[1;33m\u001b[0m\u001b[1;33m\u001b[0m\u001b[0m\n\u001b[0;32m    446\u001b[0m             \u001b[1;32mreturn\u001b[0m \u001b[0mresponse\u001b[0m\u001b[1;33m\u001b[0m\u001b[1;33m\u001b[0m\u001b[0m\n",
      "\u001b[1;32m~\\anaconda3\\lib\\site-packages\\selenium\\webdriver\\remote\\errorhandler.py\u001b[0m in \u001b[0;36mcheck_response\u001b[1;34m(self, response)\u001b[0m\n\u001b[0;32m    247\u001b[0m                 \u001b[0malert_text\u001b[0m \u001b[1;33m=\u001b[0m \u001b[0mvalue\u001b[0m\u001b[1;33m[\u001b[0m\u001b[1;34m\"alert\"\u001b[0m\u001b[1;33m]\u001b[0m\u001b[1;33m.\u001b[0m\u001b[0mget\u001b[0m\u001b[1;33m(\u001b[0m\u001b[1;34m\"text\"\u001b[0m\u001b[1;33m)\u001b[0m\u001b[1;33m\u001b[0m\u001b[1;33m\u001b[0m\u001b[0m\n\u001b[0;32m    248\u001b[0m             \u001b[1;32mraise\u001b[0m \u001b[0mexception_class\u001b[0m\u001b[1;33m(\u001b[0m\u001b[0mmessage\u001b[0m\u001b[1;33m,\u001b[0m \u001b[0mscreen\u001b[0m\u001b[1;33m,\u001b[0m \u001b[0mstacktrace\u001b[0m\u001b[1;33m,\u001b[0m \u001b[0malert_text\u001b[0m\u001b[1;33m)\u001b[0m  \u001b[1;31m# type: ignore[call-arg]  # mypy is not smart enough here\u001b[0m\u001b[1;33m\u001b[0m\u001b[1;33m\u001b[0m\u001b[0m\n\u001b[1;32m--> 249\u001b[1;33m         \u001b[1;32mraise\u001b[0m \u001b[0mexception_class\u001b[0m\u001b[1;33m(\u001b[0m\u001b[0mmessage\u001b[0m\u001b[1;33m,\u001b[0m \u001b[0mscreen\u001b[0m\u001b[1;33m,\u001b[0m \u001b[0mstacktrace\u001b[0m\u001b[1;33m)\u001b[0m\u001b[1;33m\u001b[0m\u001b[1;33m\u001b[0m\u001b[0m\n\u001b[0m",
      "\u001b[1;31mNoSuchWindowException\u001b[0m: Message: no such window: target window already closed\nfrom unknown error: web view not found\n  (Session info: chrome=108.0.5359.71)\nStacktrace:\nBacktrace:\n\t(No symbol) [0x0030F243]\n\t(No symbol) [0x00297FD1]\n\t(No symbol) [0x0018D04D]\n\t(No symbol) [0x00172D7A]\n\t(No symbol) [0x001DBE7B]\n\t(No symbol) [0x001EC196]\n\t(No symbol) [0x001D8386]\n\t(No symbol) [0x001B163C]\n\t(No symbol) [0x001B269D]\n\tGetHandleVerifier [0x005A9A22+2655074]\n\tGetHandleVerifier [0x0059CA24+2601828]\n\tGetHandleVerifier [0x003B8C0A+619850]\n\tGetHandleVerifier [0x003B7830+614768]\n\t(No symbol) [0x002A05FC]\n\t(No symbol) [0x002A5968]\n\t(No symbol) [0x002A5A55]\n\t(No symbol) [0x002B051B]\n\tBaseThreadInitThunk [0x764A6939+25]\n\tRtlGetFullPathName_UEx [0x772B8FD2+1218]\n\tRtlGetFullPathName_UEx [0x772B8F9D+1165]\n"
     ]
    }
   ],
   "source": [
    "for i in range(1,51) :\n",
    "    #driver = webdriver.Chrome(ChromeDriverManager().install())\n",
    "    url = 'https://www.amazon.com/Lessons-Madame-Chic-Stylish-Secrets/product-reviews/B00D8F6EB8/ref=cm_cr_getr_d_paging_btm_prev_1?pageNumber='+str(i)\n",
    "    \n",
    "    driver.get(url)\n",
    "    time.sleep(10)\n",
    "    html = driver.page_source \n",
    "    soup = BeautifulSoup(html, 'html.parser')\n",
    "    \n",
    "    # save all 50 files in your path\n",
    "    print(path+\"amazon_page_\"+str(i)+\".html\")\n",
    "    with io.open(path+\"amazon_page_\"+str(i)+\".html\", \"w\", encoding=\"utf-8\") as f:\n",
    "        f.write(html)"
   ]
  },
  {
   "cell_type": "code",
   "execution_count": null,
   "id": "afed2b5f",
   "metadata": {},
   "outputs": [],
   "source": [
    "# open the first page you saved\n",
    "\n",
    "file = open(path+'amazon_page_1'+'.html',encoding='utf-8')\n",
    "soup = BeautifulSoup(file, 'html.parser')\n",
    "\n",
    "for i in soup.find('div',{'id':'cm_cr-review_list'}):\n",
    "    \n",
    "    review = i.find('span',{'class':'a-size-base review-text review-text-content'})\n",
    "\n",
    "    if review is not None:\n",
    "        print(review.text)"
   ]
  },
  {
   "cell_type": "code",
   "execution_count": 34,
   "id": "68ab87fa",
   "metadata": {},
   "outputs": [
    {
     "name": "stdout",
     "output_type": "stream",
     "text": [
      "1\n",
      "2\n",
      "3\n",
      "4\n",
      "5\n"
     ]
    }
   ],
   "source": [
    "# create an empty list\n",
    "rev = [] \n",
    "\n",
    "# loop through all 50 pages\n",
    "for pages in range(1,6):\n",
    "    file = open(path+'amazon_page_'+str(pages)+'.html',encoding='utf-8')\n",
    "    soup = BeautifulSoup(file, 'html.parser')\n",
    "    \n",
    "    # find the reviews\n",
    "    for i in soup.find('div',{'id':'cm_cr-review_list'}):\n",
    "        review = i.find('span',{'class':'a-size-base review-text review-text-content'})\n",
    "        \n",
    "        # append reviews to list\n",
    "        if review is not None:\n",
    "            rev.append(review.text)\n",
    "        else:\n",
    "            rev.append('-1')\n",
    "    print(pages)"
   ]
  },
  {
   "cell_type": "code",
   "execution_count": 37,
   "id": "d6f8cc37",
   "metadata": {},
   "outputs": [],
   "source": [
    "final_df = pd.DataFrame({'Reviews':rev})"
   ]
  },
  {
   "cell_type": "code",
   "execution_count": 36,
   "id": "b49c7f89",
   "metadata": {},
   "outputs": [
    {
     "name": "stdout",
     "output_type": "stream",
     "text": [
      "                                              Reviews\n",
      "0                                                  -1\n",
      "1   \\n“Not one of your pertinent ancestors was squ...\n",
      "2   \\nI like the description of the scientific kno...\n",
      "3   \\nBill Bryson has the ability to tackle the sc...\n",
      "4   \\nUsed book in Excellent condition! Lived up t...\n",
      "5   \\nA terrific compendium of the history of the ...\n",
      "6   \\nThe book seems to be inspired by another boo...\n",
      "7   \\nWell I learned a few things from this book f...\n",
      "8             \\nLove this book. It's in my top two.\\n\n",
      "9   \\nWe're reading this as part of our homeschool...\n",
      "10  \\nI enjoy the “voice” of the author. He writes...\n",
      "11                                                 -1\n",
      "12                                                 -1\n",
      "13  \\nThis book comes delightfully close—but not t...\n",
      "14     \\nTakes a lot to get through the whole Thing\\n\n",
      "15  \\nThough there are parts that did come off as ...\n",
      "16  \\nA guide for the layperson to understanding v...\n",
      "17  \\nIf you're looking for a guide through the th...\n",
      "18  \\nBryson's book is comparable to Lee Strobel's...\n",
      "19  \\nYou can hardly open a newspaper or newsmagaz...\n",
      "20  \\nYou haven’t read this book? What are you wai...\n",
      "21  \\nI've been listening to the audio book versio...\n",
      "22  \\nIt's a little odd that many popular books th...\n",
      "23                                                 -1\n",
      "24                                                 -1\n",
      "25  \\nI cannot recommend this book highly enough. ...\n",
      "26  \\nThis book, in common with just about everyth...\n",
      "27  \\nIn three words: an informative read.  Bryson...\n",
      "28  \\nInfo on everything from atoms to outer space...\n",
      "29                           \\nGot a little boring.\\n\n",
      "30  \\n“A Short History of Nearly Everything” is ar...\n",
      "31  \\nIt’s amazing how much Bryson covers in this ...\n",
      "32  \\nFirst, I 'd like to establish that I'm not a...\n",
      "33  \\nThe author was faced with a mammoth’s task w...\n",
      "34  \\nI have been an inveterate reader of popular ...\n",
      "35                                                 -1\n",
      "36                                                 -1\n",
      "37  \\nI have just completed Bill Bryson’s “A Short...\n",
      "38  \\nVery interesting description of Earth's make...\n",
      "39  \\nI wavered between 3, 4 or 5 stars. A 5 star ...\n",
      "40  \\nBought this as one of my husband’s birthday ...\n",
      "41                      \\nGift to my grandchildren.\\n\n",
      "42  \\nI just finished reading Bill Bryson's A Shor...\n",
      "43  \\nBryson's narrative is clear, crisp, and humo...\n",
      "44  \\nI read a fair amount of popular science book...\n",
      "45  \\nMy sons favorite author. His favorite book i...\n",
      "46  \\nBill Bryson is a travel writer par excellenc...\n",
      "47                                                 -1\n",
      "48                                                 -1\n",
      "49  \\nDo you want to know everything??? Well this ...\n",
      "50  \\nLooking for a book that takes you from the B...\n",
      "51  \\nI never realized how accessiblethese subject...\n",
      "52  \\nI think this book should replace the texts u...\n",
      "53  \\nSome parts aren't quite as fascinating as ot...\n",
      "54  \\nI love the idea of a survey of the latest de...\n",
      "55  \\nThis book is quite different from Bryson's u...\n",
      "56  \\nThat the talented Bill Bryson's \"A Short His...\n",
      "57  \\nEvery page is a fascinating aspect of the sc...\n",
      "58  \\nI have not enjoyed a book so much in a very ...\n",
      "59                                                 -1\n"
     ]
    }
   ],
   "source": [
    "print(final_df)"
   ]
  },
  {
   "cell_type": "code",
   "execution_count": null,
   "id": "61804571",
   "metadata": {},
   "outputs": [],
   "source": []
  }
 ],
 "metadata": {
  "kernelspec": {
   "display_name": "Python 3",
   "language": "python",
   "name": "python3"
  },
  "language_info": {
   "codemirror_mode": {
    "name": "ipython",
    "version": 3
   },
   "file_extension": ".py",
   "mimetype": "text/x-python",
   "name": "python",
   "nbconvert_exporter": "python",
   "pygments_lexer": "ipython3",
   "version": "3.8.8"
  }
 },
 "nbformat": 4,
 "nbformat_minor": 5
}
