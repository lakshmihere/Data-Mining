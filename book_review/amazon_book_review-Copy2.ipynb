{
 "cells": [
  {
   "cell_type": "code",
   "execution_count": 1,
   "id": "7fe49cf2",
   "metadata": {},
   "outputs": [],
   "source": [
    "import pandas as pd\n",
    "import numpy as np\n",
    "from pprint import pprint\n",
    "import io\n",
    "import os\n",
    "import time\n",
    "from bs4 import BeautifulSoup\n",
    "import requests,json, re"
   ]
  },
  {
   "cell_type": "code",
   "execution_count": 2,
   "id": "6a2620d2",
   "metadata": {},
   "outputs": [],
   "source": [
    "from selenium import webdriver\n",
    "\n",
    "from selenium.webdriver.chrome.service import Service as ChromeService\n",
    "from webdriver_manager.chrome import ChromeDriverManager\n",
    "\n",
    "driver = webdriver.Chrome(service=ChromeService(ChromeDriverManager().install()))"
   ]
  },
  {
   "cell_type": "code",
   "execution_count": 3,
   "id": "53518c84",
   "metadata": {},
   "outputs": [],
   "source": [
    " # path you want to save the HTML files in\n",
    "path = 'C:/Users/laksh/OneDrive/Documents/Upwork/data_mining/book_review/amazon_scraping/'"
   ]
  },
  {
   "cell_type": "code",
   "execution_count": 4,
   "id": "5f578e9f",
   "metadata": {},
   "outputs": [
    {
     "name": "stdout",
     "output_type": "stream",
     "text": [
      "C:/Users/laksh/OneDrive/Documents/Upwork/data_mining/book_review/amazon_scraping/amazon_page_1.html\n",
      "C:/Users/laksh/OneDrive/Documents/Upwork/data_mining/book_review/amazon_scraping/amazon_page_2.html\n"
     ]
    },
    {
     "ename": "NoSuchWindowException",
     "evalue": "Message: no such window: target window already closed\nfrom unknown error: web view not found\n  (Session info: chrome=108.0.5359.71)\nStacktrace:\nBacktrace:\n\t(No symbol) [0x0030F243]\n\t(No symbol) [0x00297FD1]\n\t(No symbol) [0x0018D04D]\n\t(No symbol) [0x00172D7A]\n\t(No symbol) [0x001DBE7B]\n\t(No symbol) [0x001EC196]\n\t(No symbol) [0x001D8386]\n\t(No symbol) [0x001B163C]\n\t(No symbol) [0x001B269D]\n\tGetHandleVerifier [0x005A9A22+2655074]\n\tGetHandleVerifier [0x0059CA24+2601828]\n\tGetHandleVerifier [0x003B8C0A+619850]\n\tGetHandleVerifier [0x003B7830+614768]\n\t(No symbol) [0x002A05FC]\n\t(No symbol) [0x002A5968]\n\t(No symbol) [0x002A5A55]\n\t(No symbol) [0x002B051B]\n\tBaseThreadInitThunk [0x764A6939+25]\n\tRtlGetFullPathName_UEx [0x772B8FD2+1218]\n\tRtlGetFullPathName_UEx [0x772B8F9D+1165]\n",
     "output_type": "error",
     "traceback": [
      "\u001b[1;31m---------------------------------------------------------------------------\u001b[0m",
      "\u001b[1;31mNoSuchWindowException\u001b[0m                     Traceback (most recent call last)",
      "Cell \u001b[1;32mIn [4], line 7\u001b[0m\n\u001b[0;32m      5\u001b[0m driver\u001b[38;5;241m.\u001b[39mget(url)\n\u001b[0;32m      6\u001b[0m time\u001b[38;5;241m.\u001b[39msleep(\u001b[38;5;241m10\u001b[39m)\n\u001b[1;32m----> 7\u001b[0m html \u001b[38;5;241m=\u001b[39m \u001b[43mdriver\u001b[49m\u001b[38;5;241;43m.\u001b[39;49m\u001b[43mpage_source\u001b[49m \n\u001b[0;32m      8\u001b[0m soup \u001b[38;5;241m=\u001b[39m BeautifulSoup(html, \u001b[38;5;124m'\u001b[39m\u001b[38;5;124mhtml.parser\u001b[39m\u001b[38;5;124m'\u001b[39m)\n\u001b[0;32m     10\u001b[0m \u001b[38;5;66;03m# save all 50 files in your path\u001b[39;00m\n",
      "File \u001b[1;32m~\\anaconda3\\envs\\keras_env\\lib\\site-packages\\selenium\\webdriver\\remote\\webdriver.py:550\u001b[0m, in \u001b[0;36mWebDriver.page_source\u001b[1;34m(self)\u001b[0m\n\u001b[0;32m    540\u001b[0m \u001b[38;5;129m@property\u001b[39m\n\u001b[0;32m    541\u001b[0m \u001b[38;5;28;01mdef\u001b[39;00m \u001b[38;5;21mpage_source\u001b[39m(\u001b[38;5;28mself\u001b[39m) \u001b[38;5;241m-\u001b[39m\u001b[38;5;241m>\u001b[39m \u001b[38;5;28mstr\u001b[39m:\n\u001b[0;32m    542\u001b[0m     \u001b[38;5;124;03m\"\"\"\u001b[39;00m\n\u001b[0;32m    543\u001b[0m \u001b[38;5;124;03m    Gets the source of the current page.\u001b[39;00m\n\u001b[0;32m    544\u001b[0m \n\u001b[1;32m   (...)\u001b[0m\n\u001b[0;32m    548\u001b[0m \u001b[38;5;124;03m            driver.page_source\u001b[39;00m\n\u001b[0;32m    549\u001b[0m \u001b[38;5;124;03m    \"\"\"\u001b[39;00m\n\u001b[1;32m--> 550\u001b[0m     \u001b[38;5;28;01mreturn\u001b[39;00m \u001b[38;5;28;43mself\u001b[39;49m\u001b[38;5;241;43m.\u001b[39;49m\u001b[43mexecute\u001b[49m\u001b[43m(\u001b[49m\u001b[43mCommand\u001b[49m\u001b[38;5;241;43m.\u001b[39;49m\u001b[43mGET_PAGE_SOURCE\u001b[49m\u001b[43m)\u001b[49m[\u001b[38;5;124m\"\u001b[39m\u001b[38;5;124mvalue\u001b[39m\u001b[38;5;124m\"\u001b[39m]\n",
      "File \u001b[1;32m~\\anaconda3\\envs\\keras_env\\lib\\site-packages\\selenium\\webdriver\\remote\\webdriver.py:444\u001b[0m, in \u001b[0;36mWebDriver.execute\u001b[1;34m(self, driver_command, params)\u001b[0m\n\u001b[0;32m    442\u001b[0m response \u001b[38;5;241m=\u001b[39m \u001b[38;5;28mself\u001b[39m\u001b[38;5;241m.\u001b[39mcommand_executor\u001b[38;5;241m.\u001b[39mexecute(driver_command, params)\n\u001b[0;32m    443\u001b[0m \u001b[38;5;28;01mif\u001b[39;00m response:\n\u001b[1;32m--> 444\u001b[0m     \u001b[38;5;28;43mself\u001b[39;49m\u001b[38;5;241;43m.\u001b[39;49m\u001b[43merror_handler\u001b[49m\u001b[38;5;241;43m.\u001b[39;49m\u001b[43mcheck_response\u001b[49m\u001b[43m(\u001b[49m\u001b[43mresponse\u001b[49m\u001b[43m)\u001b[49m\n\u001b[0;32m    445\u001b[0m     response[\u001b[38;5;124m\"\u001b[39m\u001b[38;5;124mvalue\u001b[39m\u001b[38;5;124m\"\u001b[39m] \u001b[38;5;241m=\u001b[39m \u001b[38;5;28mself\u001b[39m\u001b[38;5;241m.\u001b[39m_unwrap_value(response\u001b[38;5;241m.\u001b[39mget(\u001b[38;5;124m\"\u001b[39m\u001b[38;5;124mvalue\u001b[39m\u001b[38;5;124m\"\u001b[39m, \u001b[38;5;28;01mNone\u001b[39;00m))\n\u001b[0;32m    446\u001b[0m     \u001b[38;5;28;01mreturn\u001b[39;00m response\n",
      "File \u001b[1;32m~\\anaconda3\\envs\\keras_env\\lib\\site-packages\\selenium\\webdriver\\remote\\errorhandler.py:249\u001b[0m, in \u001b[0;36mErrorHandler.check_response\u001b[1;34m(self, response)\u001b[0m\n\u001b[0;32m    247\u001b[0m         alert_text \u001b[38;5;241m=\u001b[39m value[\u001b[38;5;124m\"\u001b[39m\u001b[38;5;124malert\u001b[39m\u001b[38;5;124m\"\u001b[39m]\u001b[38;5;241m.\u001b[39mget(\u001b[38;5;124m\"\u001b[39m\u001b[38;5;124mtext\u001b[39m\u001b[38;5;124m\"\u001b[39m)\n\u001b[0;32m    248\u001b[0m     \u001b[38;5;28;01mraise\u001b[39;00m exception_class(message, screen, stacktrace, alert_text)  \u001b[38;5;66;03m# type: ignore[call-arg]  # mypy is not smart enough here\u001b[39;00m\n\u001b[1;32m--> 249\u001b[0m \u001b[38;5;28;01mraise\u001b[39;00m exception_class(message, screen, stacktrace)\n",
      "\u001b[1;31mNoSuchWindowException\u001b[0m: Message: no such window: target window already closed\nfrom unknown error: web view not found\n  (Session info: chrome=108.0.5359.71)\nStacktrace:\nBacktrace:\n\t(No symbol) [0x0030F243]\n\t(No symbol) [0x00297FD1]\n\t(No symbol) [0x0018D04D]\n\t(No symbol) [0x00172D7A]\n\t(No symbol) [0x001DBE7B]\n\t(No symbol) [0x001EC196]\n\t(No symbol) [0x001D8386]\n\t(No symbol) [0x001B163C]\n\t(No symbol) [0x001B269D]\n\tGetHandleVerifier [0x005A9A22+2655074]\n\tGetHandleVerifier [0x0059CA24+2601828]\n\tGetHandleVerifier [0x003B8C0A+619850]\n\tGetHandleVerifier [0x003B7830+614768]\n\t(No symbol) [0x002A05FC]\n\t(No symbol) [0x002A5968]\n\t(No symbol) [0x002A5A55]\n\t(No symbol) [0x002B051B]\n\tBaseThreadInitThunk [0x764A6939+25]\n\tRtlGetFullPathName_UEx [0x772B8FD2+1218]\n\tRtlGetFullPathName_UEx [0x772B8F9D+1165]\n"
     ]
    }
   ],
   "source": [
    "for i in range(1,51) :\n",
    "    #driver = webdriver.Chrome(ChromeDriverManager().install())\n",
    "    url = 'https://www.amazon.com/Short-History-Nearly-Everything/product-reviews/B0000U7N00/ref=cm_cr_getr_d_paging_btm_prev_1?ie=UTF8&reviewerType=all_reviews&pageNumber='+str(i)\n",
    "    \n",
    "    driver.get(url)\n",
    "    time.sleep(10)\n",
    "    html = driver.page_source \n",
    "    soup = BeautifulSoup(html, 'html.parser')\n",
    "    \n",
    "    # save all 50 files in your path\n",
    "    print(path+\"amazon_page_\"+str(i)+\".html\")\n",
    "    with io.open(path+\"amazon_page_\"+str(i)+\".html\", \"w\", encoding=\"utf-8\") as f:\n",
    "        f.write(html)"
   ]
  },
  {
   "cell_type": "code",
   "execution_count": 29,
   "id": "afed2b5f",
   "metadata": {},
   "outputs": [
    {
     "name": "stdout",
     "output_type": "stream",
     "text": [
      "\n",
      "“Not one of your pertinent ancestors was squashed, devoured, drowned, starved, stranded, stuck fast, untimely wounded, or otherwise deflected from its life’s quest of delivering a tiny charge of genetic material to the right partner at the right moment in order to perpetuate the only possible sequence of hereditary combinations that could result—eventually, astoundingly, and all too briefly—in you.”A Short History of Nearly Everything is not as impossibly far-reaching as the title would indicate. An attempt to cram everything and the kitchen sink into a work intended for the general reader is surely a recipe for failure—or so one might think. Bryson marshals science, history, and philosophy to present a big-picture understanding of our universe from past to present. Extraneous details are filtered out, and mysteries left unexamined, yet it somehow feels complete. Not unlike a film editor who can cut down 24 hours of production material into a feature-length film, he manages to pack a world of wonder and insight into an accessible and entertaining, though relatively lengthy (544-page) tome.Bryson’s preoccupation is less with the rote repetition of facts (though there is that, too) than with conveying just how it is we know what we know. He takes us behind the curtain for a more intimate look at the process of discovery and the strokes of genius essential to that process.Lengthy and mildly scatterbrained it might be, ASHONE is a pure literary delight. The author’s excitement and enthusiasm for the subject matter drip from every page. The sheer joy he receives from learning little gems he missed in high school or being reintroduced to information forgotten long ago is intoxicating. He meets with a wonderful cast of men and women to highlight the personalities behind the stories of discovery. Lone geniuses are a rarity in any field, and science is no exception. Bryson scratches below the surface to meet the individuals who played prominent roles yet went unrecognized.In taking the long view, Bryson engages some of science’s toughest questions. Everything from the Big Bang to man’s (relatively terse) evolutionary past is presented here, with a nod to some of the more eminent and intriguing figures from each field. I particularly appreciated that after a concept was explained, he immediately followed up with the most obvious question in response. It really helps the lay reader navigate these complex topics.Bryson spends a good amount of time on natural disasters, describing the many ways in which they shaped the history of our planet. His frequently humorous analogies help you understand their sheer scale and the havoc left in their wake. Ice ages, earthquakes, supervolcanoes, and pandemics are each showcased in breathtaking detail in some of the most harrowing events on planetary record. Given all the chaos that has besieged our planet, it becomes soberingly clear by the book’s end that we humans—or any life for that matter—are incredibly lucky to be here. In light of all that can go wrong and has gone wrong, it’s remarkable there is any life left to comment on the tragedy and storied disarray. I commend Bryson for demonstrating how truly diminutive our time here on Earth is relative to the universe’s imponderably vast history.Bryson should also be applauded for pointing out places where our inquiry has hit a brick wall or those areas that remain imperfectly understood. The fact that we have accumulated such vast storehouses of knowledge over the last few centuries does not mean there are no mysteries left to explore. Indeed, dozens of questions both big and small remain unanswered, and new discoveries have a tendency to open up several more. We can both be proud about what we have uncovered to date and humble about the many uncharted possibilities that surely await us.Fast and Loose with ScienceThere are a few caveats, however, with respect to some of the finer details. In one place he describes particles with “spin” as actually rotating about an axis (they are not). This erroneous conception of elementary particles dates back to the 1920s, when George Uhlenbeck and Samuel Goudsmit interpreted the motion of electrons as self-rotation around their own axis. A few years later, Paul Dirac pointed out that electrons could not be spinning according to the rules of orbital angular momentum because the rate at which their surface would have to be spinning (to produce the magnitude of the magnetic moment) would have to exceed the speed of light, which would violate the special theory of relativity.In another place Bryson says that quantum entanglement is a violation of relativity (it is not). Relativity tells us that nothing can travel faster than the speed of light, and this applies even to things with zero mass, such as information or other electromagnetic radiation. Entanglement says that measuring a particle in one place can instantly affect a particle somewhere else. However, this effect is constrained by the cosmic speed limit. On p. 42 of his book What Is Relativity?, Jeffrey Bennett responds to this notion:“However, while laboratory experiments suggest that this instantaneous effect can really happen, current understanding of physics tells us that it cannot be used to transmit any useful information from one place to the other; indeed, if you were at the location of the first particle and wanted to confirm that the second had been affected, you’d need to receive a signal from its location, and that signal could not travel faster than light.”Bryson also claims that the production of black holes within particle accelerators like the Large Hadron Collider could destroy the world, when in fact, these microscopic black holes would disintegrate in nanoseconds thanks to Hawking radiation. On p. 154 of the same book, Bennett also debunks this largely media-driven fear:“Some physicists have indeed proposed scenarios in which such micro black holes could be produced in the Large Hadron Collider, but even if they are right, there’s nothing to worry about. The reason is that while the LHC can generate particles from greater concentrations of energy than any other machine that humans have ever built, nature routinely makes such particles. Some of those particles must occasionally rain down on Earth, so if they were dangerous, we would have suffered the consequences long ago.\"In case you are wondering how a micro black hole could be “safe,” the most likely answer has to do with a process called Hawking radiation…Hawking showed that the laws of quantum physics imply that black holes can gradually “evaporate” in the sense of having their masses decrease, even while nothing ever escapes from within their event horizons. The rate of evaporation depends on a black hole’s mass, with lower-mass black holes evaporating much more rapidly. The result is that while the evaporation rate would be negligible for black holes with star-like masses or greater, micro black holes would evaporate in a fraction of a second, long before they could do any damage.”He may have consulted with experts, but the manuscript could have benefited from additional fact-checking. That said, although the book was published in 2003, there is little that is out of date as of this writing—the confirmed interbreeding between Neanderthals and Denisovans being one notable discovery of late that adds greater texture to the stories recounted here. Additionally, I feel there could (and should) have been a greater emphasis on climate change; Bryson seemed to skirt over it whenever a related topic arose, and it's not clear whether this was intentional.Closing ThoughtsThe content in ASHONE is something I think everyone should know and be exposed to, and it's hard to imagine the material presented with greater alacrity than it is here. The passion and unbridled enthusiasm on display frequently approaches Sagan-esque proportions, in a style redolent of the signature series Cosmos, which is about the highest praise a work in this genre could hope to achieve. Though I found a few errors—and suspect the average grad student in one of a number of the subjects covered could spot a handful more—the book is nevertheless a praiseworthy stab at science writing for the layperson. Bryson set an ambitious task for himself and ultimately delivered a lively, accessible, and mostly scientifically faithful, albeit cursory, proem to the history of the universe as we know it today. “Even now as a species, we are almost preposterously vulnerable in the wild. Nearly every large animal you can care to name is stronger, faster and toothier than us. Faced with attack, modern humans have only two advantages. We have a good brain, with which we can devise strategies, and we have hands with which we can fling or brandish hurtful objects. We are the only creature that can harm at a distance. We can thus afford to be physically vulnerable.” (p. 447)\n",
      "\n",
      "\n",
      "I like the description of the scientific knowledge we have and the honest,humbling knowledge that we don't know much. We Homo Sapiens may be perpetrators of our own destruction but we have capability make the world a better place. While nothing is said about religions, it seems to me that El is older, bigger and closer than I ever imagined, part of everything that is.\n",
      "\n",
      "\n",
      "Bill Bryson has the ability to tackle the scientific world and translate it to us laymen in understandable language that is both educational as well as funny. I personally found it a plethora of great new facts that I’ve never learned.\n",
      "\n",
      "\n",
      "Used book in Excellent condition! Lived up to description\n",
      "\n",
      "\n",
      "A terrific compendium of the history of the natural world including humanity.  Massive research went into this- but written in very reader-friendly fashion (and quite funny). I received the large print, hardcover edition. Really easy to read. VERY highly recommended, even if it was written twenty years ago (not all the science is completely up to date).\n",
      "\n",
      "\n",
      "The book seems to be inspired by another book Cosmos by Carl Segan.I enjoyed Cosmos a lot, and I think I enjoyed this book more than Cosmos.\n",
      "\n",
      "\n",
      "Well I learned a few things from this book for sure. As a doctor and lover of science, it did keep me interested.A summary of how earth and its living beings all ended up where they are, the scientific processes of how we know what we know, the simple people involved, the accidents of discovery, and the miracle of life today.Recommended\n",
      "\n",
      "\n",
      "Love this book. It's in my top two.\n",
      "\n",
      "\n",
      "We're reading this as part of our homeschool curriculum and it's fantastic. It's engaging and written in a very accessible style- it doesn't put me to sleep as I'm reading it aloud and that is impressive, for a science/ earth history book.\n",
      "\n",
      "\n",
      "I enjoy the “voice” of the author. He writes with what I would call a stream-of-consciousness style, and he is conscious of an enormous amount of facts, details, and side stories, all of which make each topic feel more like a conversation with a very intelligent friend, rather than a history book divided into boring chapters centered around what war happened when. The book is full of who really discovered what throughout history, how events in their personal lives led them to their discoveries, and so much more than can be mentioned in the amount of time I have to write this review. It is a very long book. I am really enjoying the journey of learning the history of, well, nearly everything!\n",
      "\n"
     ]
    }
   ],
   "source": [
    "# open the first page you saved\n",
    "\n",
    "file = open(path+'amazon_page_1'+'.html',encoding='utf-8')\n",
    "soup = BeautifulSoup(file, 'html.parser')\n",
    "\n",
    "for i in soup.find('div',{'id':'cm_cr-review_list'}):\n",
    "    \n",
    "    review = i.find('span',{'class':'a-size-base review-text review-text-content'})\n",
    "\n",
    "    if review is not None:\n",
    "        print(review.text)"
   ]
  },
  {
   "cell_type": "code",
   "execution_count": 34,
   "id": "68ab87fa",
   "metadata": {},
   "outputs": [
    {
     "name": "stdout",
     "output_type": "stream",
     "text": [
      "1\n",
      "2\n",
      "3\n",
      "4\n",
      "5\n"
     ]
    }
   ],
   "source": [
    "# create an empty list\n",
    "rev = [] \n",
    "\n",
    "# loop through all 50 pages\n",
    "for pages in range(1,6):\n",
    "    file = open(path+'amazon_page_'+str(pages)+'.html',encoding='utf-8')\n",
    "    soup = BeautifulSoup(file, 'html.parser')\n",
    "    \n",
    "    # find the reviews\n",
    "    for i in soup.find('div',{'id':'cm_cr-review_list'}):\n",
    "        review = i.find('span',{'class':'a-size-base review-text review-text-content'})\n",
    "        \n",
    "        # append reviews to list\n",
    "        if review is not None:\n",
    "            rev.append(review.text)\n",
    "        else:\n",
    "            rev.append('-1')\n",
    "    print(pages)"
   ]
  },
  {
   "cell_type": "code",
   "execution_count": 37,
   "id": "d6f8cc37",
   "metadata": {},
   "outputs": [],
   "source": [
    "final_df = pd.DataFrame({'Reviews':rev})"
   ]
  },
  {
   "cell_type": "code",
   "execution_count": 36,
   "id": "b49c7f89",
   "metadata": {},
   "outputs": [
    {
     "name": "stdout",
     "output_type": "stream",
     "text": [
      "                                              Reviews\n",
      "0                                                  -1\n",
      "1   \\n“Not one of your pertinent ancestors was squ...\n",
      "2   \\nI like the description of the scientific kno...\n",
      "3   \\nBill Bryson has the ability to tackle the sc...\n",
      "4   \\nUsed book in Excellent condition! Lived up t...\n",
      "5   \\nA terrific compendium of the history of the ...\n",
      "6   \\nThe book seems to be inspired by another boo...\n",
      "7   \\nWell I learned a few things from this book f...\n",
      "8             \\nLove this book. It's in my top two.\\n\n",
      "9   \\nWe're reading this as part of our homeschool...\n",
      "10  \\nI enjoy the “voice” of the author. He writes...\n",
      "11                                                 -1\n",
      "12                                                 -1\n",
      "13  \\nThis book comes delightfully close—but not t...\n",
      "14     \\nTakes a lot to get through the whole Thing\\n\n",
      "15  \\nThough there are parts that did come off as ...\n",
      "16  \\nA guide for the layperson to understanding v...\n",
      "17  \\nIf you're looking for a guide through the th...\n",
      "18  \\nBryson's book is comparable to Lee Strobel's...\n",
      "19  \\nYou can hardly open a newspaper or newsmagaz...\n",
      "20  \\nYou haven’t read this book? What are you wai...\n",
      "21  \\nI've been listening to the audio book versio...\n",
      "22  \\nIt's a little odd that many popular books th...\n",
      "23                                                 -1\n",
      "24                                                 -1\n",
      "25  \\nI cannot recommend this book highly enough. ...\n",
      "26  \\nThis book, in common with just about everyth...\n",
      "27  \\nIn three words: an informative read.  Bryson...\n",
      "28  \\nInfo on everything from atoms to outer space...\n",
      "29                           \\nGot a little boring.\\n\n",
      "30  \\n“A Short History of Nearly Everything” is ar...\n",
      "31  \\nIt’s amazing how much Bryson covers in this ...\n",
      "32  \\nFirst, I 'd like to establish that I'm not a...\n",
      "33  \\nThe author was faced with a mammoth’s task w...\n",
      "34  \\nI have been an inveterate reader of popular ...\n",
      "35                                                 -1\n",
      "36                                                 -1\n",
      "37  \\nI have just completed Bill Bryson’s “A Short...\n",
      "38  \\nVery interesting description of Earth's make...\n",
      "39  \\nI wavered between 3, 4 or 5 stars. A 5 star ...\n",
      "40  \\nBought this as one of my husband’s birthday ...\n",
      "41                      \\nGift to my grandchildren.\\n\n",
      "42  \\nI just finished reading Bill Bryson's A Shor...\n",
      "43  \\nBryson's narrative is clear, crisp, and humo...\n",
      "44  \\nI read a fair amount of popular science book...\n",
      "45  \\nMy sons favorite author. His favorite book i...\n",
      "46  \\nBill Bryson is a travel writer par excellenc...\n",
      "47                                                 -1\n",
      "48                                                 -1\n",
      "49  \\nDo you want to know everything??? Well this ...\n",
      "50  \\nLooking for a book that takes you from the B...\n",
      "51  \\nI never realized how accessiblethese subject...\n",
      "52  \\nI think this book should replace the texts u...\n",
      "53  \\nSome parts aren't quite as fascinating as ot...\n",
      "54  \\nI love the idea of a survey of the latest de...\n",
      "55  \\nThis book is quite different from Bryson's u...\n",
      "56  \\nThat the talented Bill Bryson's \"A Short His...\n",
      "57  \\nEvery page is a fascinating aspect of the sc...\n",
      "58  \\nI have not enjoyed a book so much in a very ...\n",
      "59                                                 -1\n"
     ]
    }
   ],
   "source": [
    "print(final_df)"
   ]
  },
  {
   "cell_type": "code",
   "execution_count": null,
   "id": "61804571",
   "metadata": {},
   "outputs": [],
   "source": []
  }
 ],
 "metadata": {
  "kernelspec": {
   "display_name": "Python 3",
   "language": "python",
   "name": "python3"
  },
  "language_info": {
   "codemirror_mode": {
    "name": "ipython",
    "version": 3
   },
   "file_extension": ".py",
   "mimetype": "text/x-python",
   "name": "python",
   "nbconvert_exporter": "python",
   "pygments_lexer": "ipython3",
   "version": "3.8.8"
  }
 },
 "nbformat": 4,
 "nbformat_minor": 5
}
